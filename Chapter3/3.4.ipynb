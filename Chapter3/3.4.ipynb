{
 "cells": [
  {
   "cell_type": "code",
   "execution_count": 18,
   "id": "1ffb25a8-c70d-4904-900f-273e34673f2d",
   "metadata": {},
   "outputs": [],
   "source": [
    "import numpy as np\n",
    "import pandas as pd\n",
    "import matplotlib.pyplot as plt\n",
    "import random"
   ]
  },
  {
   "cell_type": "code",
   "execution_count": 19,
   "id": "bf232fbd-3e6d-42d9-8fdf-5427cfcb79b5",
   "metadata": {},
   "outputs": [],
   "source": [
    "random.seed(1)"
   ]
  },
  {
   "cell_type": "code",
   "execution_count": 20,
   "id": "e16a0ee6-9cd9-4c72-9b6d-4c4aa122322c",
   "metadata": {},
   "outputs": [],
   "source": [
    "x = np.array([71, 68, 66, 67, 70, 71, 70, 73, 72, 65, 66])\n",
    "y = np.array([69, 64, 65, 63, 65, 62, 65, 64, 66, 59, 62])\n",
    "x_mean = np.mean(x)\n",
    "y_mean = np.mean(y)"
   ]
  },
  {
   "cell_type": "code",
   "execution_count": 21,
   "id": "32645101-5806-4d15-afdd-507c162134b8",
   "metadata": {},
   "outputs": [],
   "source": [
    "rxy_list = []\n",
    "for _ in range(200):\n",
    "    x_sampled = np.zeros_like(x)\n",
    "    y_sampled = np.zeros_like(y)\n",
    "    for i in range(11):\n",
    "        d = int(random.randint(1, 11)) - 1\n",
    "        x_sampled[i] = x[d]\n",
    "        y_sampled[i] = y[d]\n",
    "\n",
    "    rxy = np.sum((x_sampled - x_mean) * (y_sampled - y_mean)) / \\\n",
    "        (np.sqrt(np.sum((x_sampled - x_mean)**2)) * np.sqrt(np.sum((y_sampled - y_mean)**2)))\n",
    "    rxy_list.append(rxy)"
   ]
  },
  {
   "cell_type": "code",
   "execution_count": 22,
   "id": "76c11d0c-2e89-4acb-84a4-10e5b7fe74e1",
   "metadata": {},
   "outputs": [
    {
     "data": {
      "text/plain": [
       "Text(0.5, 1.0, '3.4 (iii)')"
      ]
     },
     "execution_count": 22,
     "metadata": {},
     "output_type": "execute_result"
    },
    {
     "data": {
      "image/png": "[encoded data removed]",
      "text/plain": [
       "<Figure size 600x600 with 1 Axes>"
      ]
     },
     "metadata": {},
     "output_type": "display_data"
    }
   ],
   "source": [
    "fig = plt.figure(figsize=(6, 6))\n",
    "fig.patch.set_alpha(1)\n",
    "\n",
    "plt.subplot(1, 1, 1)\n",
    "plt.hist(rxy_list, bins=10)\n",
    "plt.xlabel(\"rxy\")\n",
    "plt.ylabel(\"count\")\n",
    "plt.title(\"3.4 (iii)\")"
   ]
  },
  {
   "cell_type": "code",
   "execution_count": null,
   "id": "a2ca85b8-841a-4b50-bb9a-11df9c0d05df",
   "metadata": {},
   "outputs": [],
   "source": []
  }
 ],
 "metadata": {
  "kernelspec": {
   "display_name": "Python 3 (ipykernel)",
   "language": "python",
   "name": "python3"
  },
  "language_info": {
   "codemirror_mode": {
    "name": "ipython",
    "version": 3
   },
   "file_extension": ".py",
   "mimetype": "text/x-python",
   "name": "python",
   "nbconvert_exporter": "python",
   "pygments_lexer": "ipython3",
   "version": "3.11.9"
  }
 },
 "nbformat": 4,
 "nbformat_minor": 5
}
