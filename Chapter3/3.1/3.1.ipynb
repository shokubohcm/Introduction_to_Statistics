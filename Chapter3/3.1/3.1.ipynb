{
 "cells": [
  {
   "cell_type": "code",
   "execution_count": 42,
   "id": "d720ce9d-9422-45e3-b906-667cb6802ead",
   "metadata": {},
   "outputs": [],
   "source": [
    "import pandas as pd\n",
    "import numpy as np\n",
    "import matplotlib.pyplot as plt"
   ]
  },
  {
   "cell_type": "code",
   "execution_count": null,
   "id": "dbb53432-39d2-4705-bc0d-788376b9a824",
   "metadata": {},
   "outputs": [],
   "source": [
    "df = pd.read_csv(r\"任意のパス....\\1983_LDP_Homeownership.csv\")\n",
    "df.head()"
   ]
  },
  {
   "cell_type": "code",
   "execution_count": null,
   "id": "a4e89805-8466-46da-9b3b-0699e94eee4d",
   "metadata": {},
   "outputs": [],
   "source": [
    "d = df.iloc[0:47,[1,2]]\n",
    "d.head()"
   ]
  },
  {
   "cell_type": "code",
   "execution_count": null,
   "id": "1ec5e35a-165d-4be2-8622-43377ee81b5a",
   "metadata": {},
   "outputs": [],
   "source": [
    "plt.xlabel(d.columns[0])\n",
    "plt.ylabel(d.columns[1])\n",
    "plt.scatter(d.iloc[:, 0], d.iloc[:, 1])\n",
    "plt.show()"
   ]
  },
  {
   "cell_type": "code",
   "execution_count": null,
   "id": "23cba737-a640-4ff9-8ad0-01a2f51345de",
   "metadata": {},
   "outputs": [],
   "source": [
    "fig, ax = plt.subplots(figsize=(15,15))\n",
    "df.plot(df.columns[1], df.columns[2], kind='scatter', ax=ax)\n",
    "for k, v in df.iterrows():\n",
    "    ax.annotate(v.iloc[0], xy=(v.iloc[1], v.iloc[2]), size=12)\n",
    "plt.show()"
   ]
  },
  {
   "cell_type": "code",
   "execution_count": null,
   "id": "71ae1141-4e65-4217-8ce5-6efe656d3512",
   "metadata": {},
   "outputs": [],
   "source": [
    "d.corr()"
   ]
  }
 ],
 "metadata": {
  "kernelspec": {
   "display_name": "Python 3 (ipykernel)",
   "language": "python",
   "name": "python3"
  },
  "language_info": {
   "codemirror_mode": {
    "name": "ipython",
    "version": 3
   },
   "file_extension": ".py",
   "mimetype": "text/x-python",
   "name": "python",
   "nbconvert_exporter": "python",
   "pygments_lexer": "ipython3",
   "version": "3.12.2"
  }
 },
 "nbformat": 4,
 "nbformat_minor": 5
}
